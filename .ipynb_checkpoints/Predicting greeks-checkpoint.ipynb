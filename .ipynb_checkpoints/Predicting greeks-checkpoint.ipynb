{
 "cells": [
  {
   "cell_type": "markdown",
   "id": "18da4d57-f0b8-405b-b591-b4607ee666c2",
   "metadata": {},
   "source": [
    "## Predicting the greeks using the ML algorithms and sk learn"
   ]
  },
  {
   "cell_type": "code",
   "execution_count": 17,
   "id": "3c632768-9c1a-42bf-91e1-9f637f65ccb9",
   "metadata": {},
   "outputs": [],
   "source": [
    "from sklearn.model_selection import train_test_split, GridSearchCV\n",
    "from sklearn.preprocessing import QuantileTransformer\n",
    "from sklearn.pipeline import Pipeline\n",
    "from sklearn.linear_model import Ridge\n",
    "from sklearn.metrics import mean_squared_error, r2_score\n",
    "import numpy as np\n",
    "import pandas as pd"
   ]
  },
  {
   "cell_type": "markdown",
   "id": "ba9bf568-853c-4033-ac09-f0827c0e7ded",
   "metadata": {},
   "source": [
    "## For comparision first preduct the price usinf the closed for solution"
   ]
  },
  {
   "cell_type": "code",
   "execution_count": 18,
   "id": "e578ec65-61f7-4d25-b505-be3a0db2cc34",
   "metadata": {},
   "outputs": [],
   "source": [
    "# Discretize option price to derive Greeks (finite differences)\n",
    "def black_scholes_price(S, K, T, r, sigma, option_type=\"call\"):\n",
    "    d1 = (np.log(S / K) + (r + 0.5 * sigma**2) * T) / (sigma * np.sqrt(T))\n",
    "    d2 = d1 - sigma * np.sqrt(T)\n",
    "    if option_type == \"call\":\n",
    "        price = S * norm.cdf(d1) - K * np.exp(-r * T) * norm.cdf(d2)\n",
    "    else:\n",
    "        price = K * np.exp(-r * T) * norm.cdf(-d2) - S * norm.cdf(-d1)\n",
    "    return price"
   ]
  },
  {
   "cell_type": "markdown",
   "id": "f9309300-c27d-4dde-901b-f81ec5ae27a7",
   "metadata": {},
   "source": [
    "## Generate the data for the mu, sigma generated in the predicting_mu_sigma.ipynb"
   ]
  },
  {
   "cell_type": "code",
   "execution_count": 19,
   "id": "02a7a2ed-70cd-4869-952c-cedb125e4a87",
   "metadata": {},
   "outputs": [],
   "source": [
    "# Generate option price path and compute discrete Greeks via finite differences\n",
    "def generate_data_with_fd(S0, mu, sigma, T, dt, K, r):\n",
    "    t, S = simulate_gbm(S0, mu, sigma, T, dt)\n",
    "    option_prices = [black_scholes_price(s, K, T - ti, r, sigma) for ti, s in zip(t, S)]\n",
    "    delta_fd = np.gradient(option_prices, S)\n",
    "    gamma_fd = np.gradient(delta_fd, S)\n",
    "    rho_fd = [K * (T - ti) * np.exp(-r * (T - ti)) * norm.cdf((np.log(s / K) + (r + 0.5 * sigma ** 2) * (T - ti)) / (sigma * np.sqrt(T - ti)))\n",
    "              if T - ti > 0 else 0 for ti, s in zip(t, S)]\n",
    "    vega_fd = [s * norm.pdf((np.log(s / K) + (r + 0.5 * sigma ** 2) * (T - ti)) / (sigma * np.sqrt(T - ti))) * np.sqrt(T - ti)\n",
    "               if T - ti > 0 else 0 for ti, s in zip(t, S)]\n",
    "\n",
    "    df = pd.DataFrame({\n",
    "        'time': T - t,\n",
    "        'stock_price': S,\n",
    "        'option_price': option_prices,\n",
    "        'delta': delta_fd,\n",
    "        'gamma': gamma_fd,\n",
    "        'vega': vega_fd,\n",
    "        'rho': rho_fd,\n",
    "        'mu': mu,\n",
    "        'variance': sigma ** 2\n",
    "    })\n",
    "\n",
    "    return df.dropna()"
   ]
  },
  {
   "cell_type": "markdown",
   "id": "83e0977c-0922-4fd5-b443-38a3c5814e66",
   "metadata": {},
   "source": [
    "## Simulate gbm code from the GBM paths file"
   ]
  },
  {
   "cell_type": "code",
   "execution_count": 20,
   "id": "73d6ccf1-26f2-42ab-913b-a60cbea9b911",
   "metadata": {},
   "outputs": [],
   "source": [
    "def simulate_gbm(S0, mu, sigma, T, dt):\n",
    "    N = int(T / dt)\n",
    "    t = np.linspace(0, T, N)\n",
    "    W = np.random.standard_normal(size=N)\n",
    "    W = np.cumsum(W) * np.sqrt(dt)\n",
    "    S = S0 * np.exp((mu - 0.5 * sigma**2) * t + sigma * W)\n",
    "    return t, S"
   ]
  },
  {
   "cell_type": "markdown",
   "id": "7528583f-12a0-4930-a8c9-64356cf86239",
   "metadata": {},
   "source": [
    "## Using sklearn and the basic liner models predicting the greeks"
   ]
  },
  {
   "cell_type": "code",
   "execution_count": 21,
   "id": "aa7a0bca-2233-48e1-8434-1abd858b3656",
   "metadata": {},
   "outputs": [
    {
     "ename": "NameError",
     "evalue": "name 'norm' is not defined",
     "output_type": "error",
     "traceback": [
      "\u001b[0;31m---------------------------------------------------------------------------\u001b[0m",
      "\u001b[0;31mNameError\u001b[0m                                 Traceback (most recent call last)",
      "Cell \u001b[0;32mIn[21], line 11\u001b[0m\n\u001b[1;32m      8\u001b[0m r \u001b[38;5;241m=\u001b[39m \u001b[38;5;241m0.05\u001b[39m\n\u001b[1;32m     10\u001b[0m \u001b[38;5;66;03m# Generate data with finite difference derivatives\u001b[39;00m\n\u001b[0;32m---> 11\u001b[0m df_fd \u001b[38;5;241m=\u001b[39m \u001b[43mgenerate_data_with_fd\u001b[49m\u001b[43m(\u001b[49m\u001b[43mS0\u001b[49m\u001b[43m,\u001b[49m\u001b[43m \u001b[49m\u001b[43mmu\u001b[49m\u001b[43m,\u001b[49m\u001b[43m \u001b[49m\u001b[43msigma\u001b[49m\u001b[43m,\u001b[49m\u001b[43m \u001b[49m\u001b[43mT\u001b[49m\u001b[43m,\u001b[49m\u001b[43m \u001b[49m\u001b[43mdt\u001b[49m\u001b[43m,\u001b[49m\u001b[43m \u001b[49m\u001b[43mK\u001b[49m\u001b[43m,\u001b[49m\u001b[43m \u001b[49m\u001b[43mr\u001b[49m\u001b[43m)\u001b[49m\n\u001b[1;32m     13\u001b[0m \u001b[38;5;66;03m# Regression targets\u001b[39;00m\n\u001b[1;32m     14\u001b[0m targets \u001b[38;5;241m=\u001b[39m [\u001b[38;5;124m'\u001b[39m\u001b[38;5;124mdelta\u001b[39m\u001b[38;5;124m'\u001b[39m, \u001b[38;5;124m'\u001b[39m\u001b[38;5;124mgamma\u001b[39m\u001b[38;5;124m'\u001b[39m, \u001b[38;5;124m'\u001b[39m\u001b[38;5;124mvega\u001b[39m\u001b[38;5;124m'\u001b[39m, \u001b[38;5;124m'\u001b[39m\u001b[38;5;124mrho\u001b[39m\u001b[38;5;124m'\u001b[39m]\n",
      "Cell \u001b[0;32mIn[19], line 4\u001b[0m, in \u001b[0;36mgenerate_data_with_fd\u001b[0;34m(S0, mu, sigma, T, dt, K, r)\u001b[0m\n\u001b[1;32m      2\u001b[0m \u001b[38;5;28;01mdef\u001b[39;00m\u001b[38;5;250m \u001b[39m\u001b[38;5;21mgenerate_data_with_fd\u001b[39m(S0, mu, sigma, T, dt, K, r):\n\u001b[1;32m      3\u001b[0m     t, S \u001b[38;5;241m=\u001b[39m simulate_gbm(S0, mu, sigma, T, dt)\n\u001b[0;32m----> 4\u001b[0m     option_prices \u001b[38;5;241m=\u001b[39m [\u001b[43mblack_scholes_price\u001b[49m\u001b[43m(\u001b[49m\u001b[43ms\u001b[49m\u001b[43m,\u001b[49m\u001b[43m \u001b[49m\u001b[43mK\u001b[49m\u001b[43m,\u001b[49m\u001b[43m \u001b[49m\u001b[43mT\u001b[49m\u001b[43m \u001b[49m\u001b[38;5;241;43m-\u001b[39;49m\u001b[43m \u001b[49m\u001b[43mti\u001b[49m\u001b[43m,\u001b[49m\u001b[43m \u001b[49m\u001b[43mr\u001b[49m\u001b[43m,\u001b[49m\u001b[43m \u001b[49m\u001b[43msigma\u001b[49m\u001b[43m)\u001b[49m \u001b[38;5;28;01mfor\u001b[39;00m ti, s \u001b[38;5;129;01min\u001b[39;00m \u001b[38;5;28mzip\u001b[39m(t, S)]\n\u001b[1;32m      5\u001b[0m     delta_fd \u001b[38;5;241m=\u001b[39m np\u001b[38;5;241m.\u001b[39mgradient(option_prices, S)\n\u001b[1;32m      6\u001b[0m     gamma_fd \u001b[38;5;241m=\u001b[39m np\u001b[38;5;241m.\u001b[39mgradient(delta_fd, S)\n",
      "Cell \u001b[0;32mIn[18], line 6\u001b[0m, in \u001b[0;36mblack_scholes_price\u001b[0;34m(S, K, T, r, sigma, option_type)\u001b[0m\n\u001b[1;32m      4\u001b[0m d2 \u001b[38;5;241m=\u001b[39m d1 \u001b[38;5;241m-\u001b[39m sigma \u001b[38;5;241m*\u001b[39m np\u001b[38;5;241m.\u001b[39msqrt(T)\n\u001b[1;32m      5\u001b[0m \u001b[38;5;28;01mif\u001b[39;00m option_type \u001b[38;5;241m==\u001b[39m \u001b[38;5;124m\"\u001b[39m\u001b[38;5;124mcall\u001b[39m\u001b[38;5;124m\"\u001b[39m:\n\u001b[0;32m----> 6\u001b[0m     price \u001b[38;5;241m=\u001b[39m S \u001b[38;5;241m*\u001b[39m \u001b[43mnorm\u001b[49m\u001b[38;5;241m.\u001b[39mcdf(d1) \u001b[38;5;241m-\u001b[39m K \u001b[38;5;241m*\u001b[39m np\u001b[38;5;241m.\u001b[39mexp(\u001b[38;5;241m-\u001b[39mr \u001b[38;5;241m*\u001b[39m T) \u001b[38;5;241m*\u001b[39m norm\u001b[38;5;241m.\u001b[39mcdf(d2)\n\u001b[1;32m      7\u001b[0m \u001b[38;5;28;01melse\u001b[39;00m:\n\u001b[1;32m      8\u001b[0m     price \u001b[38;5;241m=\u001b[39m K \u001b[38;5;241m*\u001b[39m np\u001b[38;5;241m.\u001b[39mexp(\u001b[38;5;241m-\u001b[39mr \u001b[38;5;241m*\u001b[39m T) \u001b[38;5;241m*\u001b[39m norm\u001b[38;5;241m.\u001b[39mcdf(\u001b[38;5;241m-\u001b[39md2) \u001b[38;5;241m-\u001b[39m S \u001b[38;5;241m*\u001b[39m norm\u001b[38;5;241m.\u001b[39mcdf(\u001b[38;5;241m-\u001b[39md1)\n",
      "\u001b[0;31mNameError\u001b[0m: name 'norm' is not defined"
     ]
    }
   ],
   "source": [
    "# Parameters\n",
    "S0 = 100\n",
    "mu = 0.05\n",
    "sigma = 0.2\n",
    "T = 1.0\n",
    "dt = 1/252\n",
    "K = 100\n",
    "r = 0.05\n",
    "\n",
    "# Generate data with finite difference derivatives\n",
    "df_fd = generate_data_with_fd(S0, mu, sigma, T, dt, K, r)\n",
    "\n",
    "# Regression targets\n",
    "targets = ['delta', 'gamma', 'vega', 'rho']\n",
    "X = df_fd[['time', 'stock_price']]\n",
    "results = {}\n",
    "\n",
    "# Fit model for each Greek\n",
    "for target in targets:\n",
    "    y = df_fd[target]\n",
    "    X_train, X_test, y_train, y_test = train_test_split(X, y, test_size=0.2, random_state=42)\n",
    "    \n",
    "    pipe = Pipeline([\n",
    "        ('scaler', QuantileTransformer(output_distribution='normal')),\n",
    "        ('model', Ridge())\n",
    "    ])\n",
    "\n",
    "    param_grid = {\n",
    "        'model__alpha': [0.1, 1.0, 10.0, 100.0]\n",
    "    }\n",
    "\n",
    "    search = GridSearchCV(pipe, param_grid, cv=3, scoring='neg_mean_squared_error')\n",
    "    search.fit(X_train, y_train)\n",
    "\n",
    "    y_pred = search.predict(X_test)\n",
    "    results[target] = {\n",
    "        'best_alpha': search.best_params_['model__alpha'],\n",
    "        'mse': mean_squared_error(y_test, y_pred),\n",
    "        'r2': r2_score(y_test, y_pred)\n",
    "    }\n",
    "\n",
    "results"
   ]
  }
 ],
 "metadata": {
  "kernelspec": {
   "display_name": "Python 3 (ipykernel)",
   "language": "python",
   "name": "python3"
  },
  "language_info": {
   "codemirror_mode": {
    "name": "ipython",
    "version": 3
   },
   "file_extension": ".py",
   "mimetype": "text/x-python",
   "name": "python",
   "nbconvert_exporter": "python",
   "pygments_lexer": "ipython3",
   "version": "3.12.3"
  }
 },
 "nbformat": 4,
 "nbformat_minor": 5
}
